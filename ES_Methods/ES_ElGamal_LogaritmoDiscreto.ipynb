{
 "cells": [
  {
   "cell_type": "markdown",
   "metadata": {},
   "source": [
    "<h1> Intercambio de Llaves Diffie Hellman y El Gamal"
   ]
  },
  {
   "cell_type": "markdown",
   "metadata": {},
   "source": [
    "Los siguientes cifrados, son alternativas al cifrado RSA para el intercambio de Llaves. La seguridad de ambos cifrados\n",
    "radica principalmente en el dificil cálculo del logaritmo discreto.\n",
    "\n",
    "El primero, el cifrado de Diffie - Hellman, fue establecido por Whitfield Diffie y Martin Hellman. Consiste en lo siguiente: ($Z_p$)\n",
    "         \n",
    "1. Alicia escoge un grupo $Z_p$ y un generador (g), igualmente escoge una llave privada a. \n",
    "2. Alicia cálcula $A\\ \\equiv \\ g^a\\ mod\\ p$ y le manda A a Bob.\n",
    "3. Bob teniendo su llave privada (b) y teniendo g y Zp, los cuales son públicos, cálcula B=g^b mod p.\n",
    "4. Bob le manda B a alicia.\n",
    "5. Alicia hace B^a=g^ab y bob hace A^b=g^ab.\n",
    "6. Ambos obtienen la misma llave."
   ]
  },
  {
   "cell_type": "markdown",
   "metadata": {},
   "source": [
    "<h2> Ejemplo: (Intercambiemos Llaves)\n"
   ]
  },
  {
   "cell_type": "markdown",
   "metadata": {},
   "source": [
    "Alicia escoge g=13 en Z(633910111).\n",
    "\n",
    "Escoge su llave privada a=1273687109284678517294342"
   ]
  },
  {
   "cell_type": "code",
   "execution_count": 13,
   "metadata": {
    "collapsed": false
   },
   "outputs": [
    {
     "name": "stdout",
     "output_type": "stream",
     "text": [
      "a = 1273687109284678517294342\n",
      "g = 13\n",
      "p = 633910111\n"
     ]
    }
   ],
   "source": [
    "a=1273687109284678517294342\n",
    "g=13\n",
    "p=633910111\n",
    "print (\"a =\",a)\n",
    "print (\"g =\",g)\n",
    "print (\"p =\",p)"
   ]
  },
  {
   "cell_type": "markdown",
   "metadata": {},
   "source": [
    "Alicia calcula A=g^a mod p y se lo manda a Bob."
   ]
  },
  {
   "cell_type": "code",
   "execution_count": 14,
   "metadata": {
    "collapsed": false
   },
   "outputs": [
    {
     "name": "stdout",
     "output_type": "stream",
     "text": [
      "A = 32684467\n"
     ]
    }
   ],
   "source": [
    "A=pow(g,a,p)\n",
    "print (\"A =\",A)"
   ]
  },
  {
   "cell_type": "markdown",
   "metadata": {},
   "source": [
    "Bob escoge su llave privada b=87632479012874829738928329837, calcula B=g^b mod p y se lo manda a Alicia"
   ]
  },
  {
   "cell_type": "code",
   "execution_count": 15,
   "metadata": {
    "collapsed": false
   },
   "outputs": [
    {
     "name": "stdout",
     "output_type": "stream",
     "text": [
      "B = 284651986\n"
     ]
    }
   ],
   "source": [
    "b=87632479012874829738928329837\n",
    "B=pow(g,b,p)\n",
    "print (\"B =\",B)"
   ]
  },
  {
   "cell_type": "markdown",
   "metadata": {},
   "source": [
    "Alicia calcula B^a mod p y Bob calcula A^b mod p.\n"
   ]
  },
  {
   "cell_type": "code",
   "execution_count": 16,
   "metadata": {
    "collapsed": false
   },
   "outputs": [
    {
     "name": "stdout",
     "output_type": "stream",
     "text": [
      "Llave Alicia = 588760010\n",
      "Llave Bob = 588760010\n"
     ]
    }
   ],
   "source": [
    "llave_alicia=pow(B,a,p)\n",
    "llave_bob=pow(A,b,p)\n",
    "print (\"Llave Alicia =\",llave_alicia)\n",
    "print (\"Llave Bob =\",llave_bob)"
   ]
  },
  {
   "cell_type": "markdown",
   "metadata": {},
   "source": [
    "Ambos consiguen la misma llave y pueden empezar a encriptar con llave privada.\n"
   ]
  },
  {
   "cell_type": "markdown",
   "metadata": {},
   "source": [
    "<h2> El Gamal"
   ]
  },
  {
   "cell_type": "markdown",
   "metadata": {},
   "source": [
    "Para el segundo cifrado para intercambio de llaves el proceso es un poco más complejo. El cifrado el Gamal a diferencia del cifrado Diffie Hellman es asimétrico, lo cual incrementa su grado de complejidad, además de que este cifrado puede igualmente ser utilizado para el cifrado de texto. Consiste en lo siguiente:\n",
    "\n",
    "       *Alicia al igual que en Diffie Hellman escoge g, p, a(su llave aleatoria privada), y calcula A=g^a mod p.\n",
    "       *Hace públicas g y p y le manda A a Bob.\n",
    "       *Ahora bob escoge un número K al y un texto (M) que pertenezca al grupo.\n",
    "       *Bob va a calcular dos variables extras (c1 y c2) de la siguiente manera:\n",
    "              c1 = g^K mod p\n",
    "              c2 = M*(A^K)\n",
    "       *Bob envía a Alicia c1 y c2.\n",
    "       *Alicia define x = c1^a mod p.\n",
    "       *Alicia calcula (x^-1)*c2 = (c1^-a)*M*A^K = (g^-ka)*M*(g^ak) = M mod p\n",
    "     "
   ]
  },
  {
   "cell_type": "markdown",
   "metadata": {},
   "source": [
    "<h3> Ejemplo (intercambio de texto)"
   ]
  },
  {
   "cell_type": "markdown",
   "metadata": {},
   "source": [
    "Alicia escoge igual que en el ejemplo anterior g = 13, p=633910111 y a distinto a = 71682736492998029374, y calcula A"
   ]
  },
  {
   "cell_type": "code",
   "execution_count": 19,
   "metadata": {
    "collapsed": false
   },
   "outputs": [
    {
     "name": "stdout",
     "output_type": "stream",
     "text": [
      "a = 71682736492998029374\n",
      "g = 13\n",
      "p = 633910111\n",
      "A = 504659088\n"
     ]
    }
   ],
   "source": [
    "a=71682736492998029374\n",
    "g=13\n",
    "p=633910111\n",
    "A=pow(g,a,p)\n",
    "print (\"a =\",a)\n",
    "print (\"g =\",g)\n",
    "print (\"p =\",p)\n",
    "print (\"A =\",A)"
   ]
  },
  {
   "cell_type": "markdown",
   "metadata": {},
   "source": [
    "Bob escoge K = 9821640917248672790347910 y calcula c1 y c2. Igualmente escoge el texto M = 546780193. Recibe A de Alicia. Bob le manda c1 y c2 a Alicia."
   ]
  },
  {
   "cell_type": "code",
   "execution_count": 27,
   "metadata": {
    "collapsed": false
   },
   "outputs": [
    {
     "name": "stdout",
     "output_type": "stream",
     "text": [
      "Texto = 546780193\n",
      "c1 = 207679210\n",
      "c2 = 170236766856544159\n"
     ]
    }
   ],
   "source": [
    "K=9821640917248672790347910\n",
    "M=546780193\n",
    "c1=pow(g,K,p)\n",
    "c2=M*pow(A,K,p)\n",
    "print (\"Texto =\",M)\n",
    "print (\"c1 =\",c1)\n",
    "print (\"c2 =\",c2)"
   ]
  },
  {
   "cell_type": "markdown",
   "metadata": {},
   "source": [
    "Alicia define X = c1^a mod p y calcula X^(-1)*c2"
   ]
  },
  {
   "cell_type": "code",
   "execution_count": 28,
   "metadata": {
    "collapsed": false
   },
   "outputs": [
    {
     "name": "stdout",
     "output_type": "stream",
     "text": [
      "Texto Descifrado = 546780193\n"
     ]
    }
   ],
   "source": [
    "X=pow(c1,a,p)\n",
    "def extended_gcd(aa, bb):\n",
    "    lastremainder, remainder = abs(aa), abs(bb)\n",
    "    x, lastx, y, lasty = 0, 1, 1, 0\n",
    "    while remainder:\n",
    "        lastremainder, (quotient, remainder) = remainder, divmod(lastremainder, remainder)\n",
    "        x, lastx = lastx - quotient*x, x\n",
    "        y, lasty = lasty - quotient*y, y\n",
    "    return lastremainder, lastx * (-1 if aa < 0 else 1), lasty * (-1 if bb < 0 else 1)\n",
    "def modinv(a, m):\n",
    "    g, x, y = extended_gcd(a, m)\n",
    "    if g != 1:\n",
    "        raise ValueError\n",
    "    return x % m\n",
    "Xinv=modinv(X,p)\n",
    "texto_decifrado=(Xinv*c2)%p\n",
    "print(\"Texto Descifrado =\",texto_decifrado)"
   ]
  },
  {
   "cell_type": "code",
   "execution_count": null,
   "metadata": {
    "collapsed": true
   },
   "outputs": [],
   "source": []
  },
  {
   "cell_type": "code",
   "execution_count": null,
   "metadata": {
    "collapsed": true
   },
   "outputs": [],
   "source": []
  }
 ],
 "metadata": {
  "kernelspec": {
   "display_name": "Python [conda root]",
   "language": "python",
   "name": "conda-root-py"
  },
  "language_info": {
   "codemirror_mode": {
    "name": "ipython",
    "version": 3
   },
   "file_extension": ".py",
   "mimetype": "text/x-python",
   "name": "python",
   "nbconvert_exporter": "python",
   "pygments_lexer": "ipython3",
   "version": "3.5.2"
  }
 },
 "nbformat": 4,
 "nbformat_minor": 1
}
