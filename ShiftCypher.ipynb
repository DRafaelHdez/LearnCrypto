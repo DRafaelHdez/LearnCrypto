{
 "cells": [
  {
   "cell_type": "markdown",
   "metadata": {},
   "source": [
    "<h1> Shift Cyphers (Caesar's Cypher)"
   ]
  },
  {
   "cell_type": "markdown",
   "metadata": {},
   "source": [
    "___________"
   ]
  },
  {
   "cell_type": "markdown",
   "metadata": {},
   "source": [
    "Shif cyphers consist in taking a simple numerical notation for the 26 letters in the alphabet as follows:\n",
    "\n",
    "| A| B| C|D|E|F|G|H|I|J|K|L|M|N|O|P|Q|R|S|T|U|V|W|X|Y|Z|\n",
    "|:-:|:-:|:-:|:-:|:-:|:-:|:-:|:-:|:-:|:-:|:-:|:-:|:-:|:-:|:-:|:-:|:-:|:-:|:-:|:-:|:-:|:-:|:-:|:-:|:-:|\n",
    "| 0| 1| 2|3|4|5|6|7|8|9|10|11|12|13|14|15|16|17|18|19|20|21|22|23|24|25|\n",
    "\n",
    "** * Observation: ** note that spaces and punctuation were removed we will explain why in the decrypting section.\n",
    "\n",
    "And choosing a key in the simplified set of module 26 representative numbers:\n",
    "\n",
    "$$k \\in \\{0, 2, 3, 4, 5, 6, 7, 8, 9, 10, 11, 12, 13, 14, 15, 16, 17, 18, 19, 20, 21, 22, 23, 24, 25\\}$$\n",
    "\n",
    "Now, we are going to shift the entire alphabet numerical notation by adding:\n",
    "$$ k\\mod26$$\n",
    "\n",
    "So, for *k* = 3:\n",
    "\n",
    "| A| B| C|D|E|F|G|H|I|J|K|L|M|N|O|P|Q|R|S|T|U|V|W|X|Y|Z|\n",
    "|:-:|:-:|:-:|:-:|:-:|:-:|:-:|:-:|:-:|:-:|:-:|:-:|:-:|:-:|:-:|:-:|:-:|:-:|:-:|:-:|:-:|:-:|:-:|:-:|:-:|\n",
    "|3|4|5|6|7|8|9|10|11|12|13|14|15|16|17|18|19|20|21|22|23|24|25| 0| 1| 2|\n"
   ]
  },
  {
   "cell_type": "markdown",
   "metadata": {},
   "source": [
    "<h3> Let's encrypt !\n"
   ]
  },
  {
   "cell_type": "markdown",
   "metadata": {},
   "source": [
    "Well take Julius Caesar's famous words for our message: *\"DUMB BRUTUS WILL NEVER NOW IM USING PYTHON TO RULE THE WORLD\"* "
   ]
  },
  {
   "cell_type": "code",
   "execution_count": 24,
   "metadata": {
    "collapsed": false
   },
   "outputs": [
    {
     "name": "stdout",
     "output_type": "stream",
     "text": [
      "['D', 'U', 'M', 'B', 'B', 'R', 'U', 'T', 'U', 'S', 'W', 'I', 'L', 'L', 'N', 'E', 'V', 'E', 'R', 'N', 'O', 'W', 'I', 'M', 'U', 'S', 'I', 'N', 'G', 'P', 'Y', 'T', 'H', 'O', 'N', 'T', 'O', 'R', 'U', 'L', 'E', 'T', 'H', 'E', 'W', 'O', 'R', 'L', 'D']\n"
     ]
    }
   ],
   "source": [
    "message = 'DUMB BRUTUS WILL NEVER NOW IM USING PYTHON TO RULE THE WORLD'\n",
    "message = message.replace(' ','') # Take of the blank spaces\n",
    "message = list(message)\n",
    "print message"
   ]
  },
  {
   "cell_type": "code",
   "execution_count": 25,
   "metadata": {
    "collapsed": false
   },
   "outputs": [
    {
     "name": "stdout",
     "output_type": "stream",
     "text": [
      "[3, 20, 12, 1, 1, 17, 20, 19, 20, 18, 22, 8, 11, 11, 13, 4, 21, 4, 17, 13, 14, 22, 8, 12, 20, 18, 8, 13, 6, 15, 24, 19, 7, 14, 13, 19, 14, 17, 20, 11, 4, 19, 7, 4, 22, 14, 17, 11, 3]\n"
     ]
    }
   ],
   "source": [
    "numerical_message = [ # Change each letter in the message to its numerical value\n",
    "    ord(letter) - 65\n",
    "    for letter in message\n",
    "]\n",
    "print numerical_message"
   ]
  },
  {
   "cell_type": "markdown",
   "metadata": {},
   "source": [
    "Now, we'll add 3 mod 26 to our numerical vector to encrypt:"
   ]
  },
  {
   "cell_type": "code",
   "execution_count": 30,
   "metadata": {
    "collapsed": false
   },
   "outputs": [
    {
     "name": "stdout",
     "output_type": "stream",
     "text": [
      "[21, 12, 4, 19, 19, 9, 12, 11, 12, 10, 14, 0, 3, 3, 5, 22, 13, 22, 9, 5, 6, 14, 0, 4, 12, 10, 0, 5, 24, 7, 16, 11, 25, 6, 5, 11, 6, 9, 12, 3, 22, 11, 25, 22, 14, 6, 9, 3, 21]\n",
      "VMETTJMLMKOADDFWNWJFGOAEMKAFYHQLZGFLGJMDWLZWOGJDV\n"
     ]
    }
   ],
   "source": [
    "cypher = [ # Now add 3 mod 26 to encrypt\n",
    "    (number + 3) % 26\n",
    "    for number in numerical_message\n",
    "] \n",
    "\n",
    "print cypher\n",
    "\n",
    "cypher_text = [ # Get the resulting letters after shifting\n",
    "    chr(letter + 65)\n",
    "    for letter in cypher\n",
    "]\n",
    "\n",
    "cypher_text = ''.join(cypher_text) # This is our encrypted message\n",
    "\n",
    "print cypher_text \n"
   ]
  },
  {
   "cell_type": "markdown",
   "metadata": {
    "collapsed": true
   },
   "source": [
    "___\n"
   ]
  },
  {
   "cell_type": "markdown",
   "metadata": {},
   "source": [
    "<h2> DIY\n"
   ]
  },
  {
   "cell_type": "markdown",
   "metadata": {},
   "source": [
    "<h3> Encrypting machine"
   ]
  },
  {
   "cell_type": "code",
   "execution_count": 31,
   "metadata": {
    "collapsed": false
   },
   "outputs": [
    {
     "ename": "SyntaxError",
     "evalue": "invalid syntax (<ipython-input-31-29f889a46c26>, line 1)",
     "output_type": "error",
     "traceback": [
      "\u001b[0;36m  File \u001b[0;32m\"<ipython-input-31-29f889a46c26>\"\u001b[0;36m, line \u001b[0;32m1\u001b[0m\n\u001b[0;31m    message =\u001b[0m\n\u001b[0m             ^\u001b[0m\n\u001b[0;31mSyntaxError\u001b[0m\u001b[0;31m:\u001b[0m invalid syntax\n"
     ]
    }
   ],
   "source": [
    "message =\n",
    "key = \n"
   ]
  },
  {
   "cell_type": "markdown",
   "metadata": {},
   "source": [
    "<h3> Decrypting machine\n"
   ]
  },
  {
   "cell_type": "code",
   "execution_count": null,
   "metadata": {
    "collapsed": false
   },
   "outputs": [],
   "source": []
  }
 ],
 "metadata": {
  "anaconda-cloud": {},
  "kernelspec": {
   "display_name": "Python 3",
   "language": "python",
   "name": "python3"
  },
  "language_info": {
   "codemirror_mode": {
    "name": "ipython",
    "version": 3
   },
   "file_extension": ".py",
   "mimetype": "text/x-python",
   "name": "python",
   "nbconvert_exporter": "python",
   "pygments_lexer": "ipython3",
   "version": "3.5.2"
  }
 },
 "nbformat": 4,
 "nbformat_minor": 0
}
